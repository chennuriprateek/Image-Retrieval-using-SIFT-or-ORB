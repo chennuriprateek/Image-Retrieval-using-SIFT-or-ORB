{
 "cells": [
  {
   "cell_type": "markdown",
   "metadata": {
    "colab_type": "text",
    "id": "uyOwAqXLa796"
   },
   "source": [
    "INSTALL THE APPROPRIATE VERSION OF THE OPENCV LIBRARY TO ACCESS SIFT AND ORB ALGORITHMS"
   ]
  },
  {
   "cell_type": "code",
   "execution_count": 0,
   "metadata": {
    "colab": {},
    "colab_type": "code",
    "id": "g15GB348coNE"
   },
   "outputs": [],
   "source": [
    "!pip install opencv-python==3.3.0.10 opencv-contrib-python==3.3.0.10"
   ]
  },
  {
   "cell_type": "code",
   "execution_count": 0,
   "metadata": {
    "colab": {},
    "colab_type": "code",
    "id": "O0CUPw7vdJnu"
   },
   "outputs": [],
   "source": [
    "import numpy as np\n",
    "import math \n",
    "import os \n",
    "import cv2\n",
    "import matplotlib.pyplot as plt"
   ]
  },
  {
   "cell_type": "markdown",
   "metadata": {
    "colab_type": "text",
    "id": "V0kYOALEbUuK"
   },
   "source": [
    "DRAFT FUNCTIONS MADE TO ANALYSE THE OUTPUT FOR EACH IMAGE"
   ]
  },
  {
   "cell_type": "code",
   "execution_count": 0,
   "metadata": {
    "colab": {},
    "colab_type": "code",
    "id": "FdpF5dGhmrNC"
   },
   "outputs": [],
   "source": [
    "#function for finding the top 5 images in the dataset for a test image\n",
    "#INPUTS: 1.TEST IMAGE NAME 2.VALUE OF K 3.IMG_LIST 4. PATH OF THE IMAGES 5.MAXIMUM KEY POINTS TO BE USED\n",
    "\n",
    "def img_correspondence(img_name,k,img_list,img_path,max_keypoints):\n",
    "    #img_list.remove(img_name)\n",
    "    img_test = cv2.imread(img_path + img_name)  #READ THE TEST IMAGE \n",
    "    img_test = cv2.cvtColor(img_test,cv2.COLOR_BGR2GRAY)\n",
    "    sift = cv2.xfeatures2d.SIFT_create(max_keypoints) #INITIALIZING SIFT OR ORB\n",
    "    _, des_test = sift.detectAndCompute(img_test,None) #CALCUATING THE DESCRIPTORS\n",
    "    euclidean_distances=np.zeros((6,))                 #THE 6 LEAST SUM OF EUCLIDEAN DISTANCES BETWEEN TEST AND COMPARING IMAGES\n",
    "    top_images = np.zeros((6,))                        # THE TOP 6 IMAGES \n",
    "    \n",
    "    for i in range(len(img_list)):                      # COMPARING IMAGES\n",
    "        img = cv2.imread(img_path+img_list[i])\n",
    "        img = cv2.cvtColor(img,cv2.COLOR_BGR2GRAY)\n",
    "        _,des = sift.detectAndCompute(img,None)         # DESCRIPTORS FOR THE COMPARING IMAGE\n",
    "        top_k_matches = np.zeros((k,))\n",
    "        if k=='large':\n",
    "            top_k_matches = np.zeros((des.shape[0],1))\n",
    "        \n",
    "        for p in range(des_test.shape[0]):              # CALCULATING THE EUCLIDEAN DISTANCES BETWEEN EACH OF THE DESCRIPTORS\n",
    "            for q in range(des.shape[0]):\n",
    "                dist = np.linalg.norm(des[q,:]-des_test[p,:])\n",
    "                if q==0:                                \n",
    "                    dist_min = dist\n",
    "                elif q>0 and dist<dist_min:\n",
    "                    dist_min = dist\n",
    "                if p<k:\n",
    "                    top_k_matches[p]=dist_min           \n",
    "                else:\n",
    "                    if dist_min<top_k_matches[np.argmax(top_k_matches)]:\n",
    "                        top_k_matches[np.argmax(top_k_matches)] = dist_min #CALCULATING THE TOP K MATCHES\n",
    "        if i<6:                                             #CALCULATING THE SUM OF THE EUCLIDEAN DISTANCES\n",
    "            euclidean_distances[i] = np.sum(top_k_matches)\n",
    "            top_images[i] = i \n",
    "        else:\n",
    "            if np.sum(top_k_matches)<euclidean_distances[np.argmax(euclidean_distances)]:\n",
    "                top_images[np.argmax(euclidean_distances)] = i\n",
    "                euclidean_distances[np.argmax(euclidean_distances)] = np.sum(top_k_matches)\n",
    "    \n",
    "    matched_images = []             #GETTING THE MATCHED IMAGES\n",
    "    for r in range(6):\n",
    "        matched_images.append(img_list[int(top_images[r])])\n",
    "    return matched_images"
   ]
  },
  {
   "cell_type": "code",
   "execution_count": 0,
   "metadata": {
    "colab": {},
    "colab_type": "code",
    "id": "_mMP22WSm-45"
   },
   "outputs": [],
   "source": [
    "# PLOTTING THE ACCURACY GRAPHS BASED ON THE VALUES OF K\n",
    "def accuracy_graphs(img_list,k_list,img_path,max_keypoints):\n",
    "    accuracies = np.zeros((len(k_list),len(img_list)))\n",
    "    for j in range(len(k_list)):\n",
    "        print(k_list[j])\n",
    "        for i in range(len(img_list)):\n",
    "            print('i=',img_list[i])\n",
    "            matched_images = img_correspondence(img_list[i],k_list[j],img_list,img_path,max_keypoints)\n",
    "            print('matched images=',matched_images)\n",
    "            count = 0\n",
    "            for c in range(len(matched_images)):\n",
    "                if matched_images[c][0:2] == img_list[i][0:2] and matched_images[c]!=img_list[i]:\n",
    "                    count+=1\n",
    "            accuracies[j,i] = (count/5)*100\n",
    "            print(accuracies[j,i])\n",
    "    accuracies_avg = (np.sum(accuracies,axis=1))/len(img_list)\n",
    "    print(accuracies_avg)\n",
    "    plt.plot(k_list,accuracies_avg)\n",
    "    plt.xlabel('k_values')\n",
    "    plt.ylabel('accuracies')\n",
    "    plt.title('average accuracies based on the k values using SIFT')\n",
    "    plt.savefig('abc.png')    "
   ]
  },
  {
   "cell_type": "markdown",
   "metadata": {
    "colab_type": "text",
    "id": "yuBVejAzauVD"
   },
   "source": [
    "MAIN FUNCTIONS USED TO DO THE ASSIGNMENT"
   ]
  },
  {
   "cell_type": "code",
   "execution_count": 0,
   "metadata": {
    "colab": {},
    "colab_type": "code",
    "id": "OCYDXAj7nBr4"
   },
   "outputs": [],
   "source": [
    "##THIS IS THE FUNCTION FOR CALCULATING THE EUCLIDEAN DISTANCES BETWEEN THE IMAGE KEYPOINTS\n",
    "\n",
    "#INPUTS FOR THE FUNCTION : 1.LIST OF THE IMAGE NAMES 2.PATH OF THE INPUT IMAGES 3. TYPE OF ALGORITHM USED: SIFT (OR) ORB\n",
    "def euclidean_distances(img_list,img_path,algo): \n",
    "    euc_dict={}                                             #OUTPUT INITIALIZATION\n",
    "    if algo=='SIFT':                                        #DEPENDING ON THE ALGORITHM\n",
    "        sift = cv2.xfeatures2d.SIFT_create(500)                #CREATION OF SIFT\n",
    "    elif algo== 'ORB':\n",
    "        orb = cv2.ORB_create(500)                           #CREATION OF ORB\n",
    "    for i in range(len(img_list)):                          # FOR EVERY TEST IMAGE\n",
    "        print(i)                                             \n",
    "        img_test = cv2.imread(img_path+img_list[i])         #READ THE TEST IMAGE\n",
    "        img_test = cv2.cvtColor(img_test,cv2.COLOR_BGR2GRAY) #CONVERT TO GRAYSCALE\n",
    "        if algo=='SIFT':\n",
    "            _,des_test = sift.detectAndCompute(img_test,None) #FINDING THE IMAGE KEYPOINT DESCRIPTORS\n",
    "        elif algo=='ORB':\n",
    "            _,des_test = orb.detectAndCompute(img_test,None)\n",
    "        #COMPARING WITH REMAINING IMAGES IN THE DATASET\n",
    "        for j in range(len(img_list)):\n",
    "            if img_list[i]!=img_list[j] and ((img_list[i][0:5],img_list[j][0:5]) and (img_list[j][0:5],img_list[i][0:5]) not in list(euc_dict.keys())): #AVOIDING REPITION IN CALCULATION OF EUCLIDEAN DISTANCES\n",
    "                    img_j = cv2.imread(img_path+img_list[j]) #READING THE COMPARING IMAGE\n",
    "                    img_j = cv2.cvtColor(img_j,cv2.COLOR_BGR2GRAY) #CONVERTING TO GRAYSCALE\n",
    "                    if algo=='SIFT':\n",
    "                        _,des_j = sift.detectAndCompute(img_j,None)\n",
    "                    elif algo=='ORB':\n",
    "                        _,des_j = orb.detectAndCompute(img_j,None)\n",
    "                    distances = [] # TO STORE ALL THE DISTANCES IN A LIST\n",
    "                    for p in range(des_test.shape[0]):\n",
    "                        for q in range(des_j.shape[0]):\n",
    "                            distances.append(np.linalg.norm(des_test[p,:]-des_j[q,:])) #CALCULATING THE DISTANCE\n",
    "                    euc_dict[(img_list[i][0:5],img_list[j][0:5])] = distances\n",
    "    return euc_dict #RETURNING ALL THE DISTANCES OF ALL THE IMAGE PAIRS"
   ]
  },
  {
   "cell_type": "code",
   "execution_count": 0,
   "metadata": {
    "colab": {},
    "colab_type": "code",
    "id": "_zeEWgMZSxi-"
   },
   "outputs": [],
   "source": [
    "# CALCULATING THE IMAGE CORRESPONDENCES, ACCURACIES AND PLOTTING OF GRAPHS\n",
    "\n",
    "# INPUTS FOR THE FUNCTION: 1. DICTIONARY CONTAINING THE EUCLIDEAN DISTANCES 2. LIST OF K's 3.LIST OF THE INPUT IMAGES\n",
    "def img_corr_acc_graphs(euc_dict,k_list,img_list):\n",
    "    avg_accuracies = np.zeros((len(k_list),))  # AVERAGE ACCURACIES INITIALIZATION BASED ON THE K VALUES\n",
    "    img_list = np.array(img_list)              # CONVERTING THE img_list TO AN ARRAY\n",
    "    for k in range(len(k_list)):\n",
    "        print(k_list[k])\n",
    "        accuracies = []                        #ACCURACIES OF THE INDIVIDUAL IMAGES FOR A K VALUE\n",
    "        for i in range(len(img_list)):         # FOR A TEST IMAGE\n",
    "            img_list_temp = np.delete(img_list,i) #REMOVE THE TEST IMAGE FROM THE img ARRAY\n",
    "            #print(img_list)\n",
    "            sum_dist = []                       # COLLECTING THE DISTANCES SUM OF THE COMPARING IMAGES\n",
    "            for j in range(len(img_list_temp)): # A COMPARING IMAGE FROM THE REMAINING IMAGES\n",
    "                if img_list[i]!=img_list_temp[j]: #JUST TO ENSURE THAT TEST AND COMPARING IMAGES ARE NOT THE SAME\n",
    "                    try:\n",
    "                        distances = euc_dict[(img_list[i][0:5],img_list_temp[j][0:5])] #COLLECTING THE EUCLIDEAN DISTANCES\n",
    "                    except:\n",
    "                        distances = euc_dict[(img_list_temp[j][0:5],img_list[i][0:5])]\n",
    "                    \n",
    "                    distances.sort()                   #SORTING THE DISTANCES IN ASCENDING ORDER\n",
    "                    if k_list[k]=='large':             #FOR A LARGE VALUE OF K\n",
    "                        distances = distances[0:]\n",
    "                    else:                              #TAKING THE LEAST K DISTANCES\n",
    "                        distances = distances[0:k_list[k]]\n",
    "                    sum_dist.append(sum(distances))    # TAKING THE SUM OF THE EUCLIDEAN DISTANCES\n",
    "            img_indices = list(np.argsort(sum_dist))   # CALCULATING THE ASCENDING ORDER INDICES\n",
    "            count = 0 \n",
    "            for c in range(5):                         #CALCULATING THE ACCURACY FOR THE TEST IMAGE\n",
    "                if img_list[i][0:2]==img_list_temp[img_indices[c]][0:2]:\n",
    "                    count = count + 1\n",
    "            accuracies.append((count/5)*100)          #APPENDING THE ACCURACY FOR THE TEST IMAGE\n",
    "        avg_accuracies[k] = sum(accuracies)/len(img_list) #AVG ACCURACY BASED ON THE K VALUE \n",
    "    plt.plot(k_list,avg_accuracies)                       # PLOTTING THE GRAPH\n",
    "    plt.xlabel('k_values')\n",
    "    plt.ylabel('accuracies')\n",
    "    plt.title('average accuracies based on the k values using SIFT')\n",
    "    plt.savefig('img_corr_acc_graphs.png') \n",
    "    return avg_accuracies                                 # RETURNING THE AVG ACCURACIES \n",
    "    "
   ]
  },
  {
   "cell_type": "markdown",
   "metadata": {
    "colab_type": "text",
    "id": "8_4Jmf7IYmVO"
   },
   "source": [
    "RUN THE CODE HERE"
   ]
  },
  {
   "cell_type": "code",
   "execution_count": 0,
   "metadata": {
    "colab": {},
    "colab_type": "code",
    "id": "qe295gmSSysL"
   },
   "outputs": [],
   "source": [
    "l = os.listdir('/content/') ## give the address of the data in order to get the images list\n",
    "l.remove('sample_data')     ##colab had these extra files, therefore removed them \n",
    "l.remove('.config')\n",
    "l.remove('.ipynb_checkpoints')\n",
    "euc_dict_ = euclidean_distances(l,'/content/','SIFT')\n",
    "img_corr_acc_graphs(euc_dict_,[1,5,10,20,30,40,50,60,70,80,'large'],l)"
   ]
  },
  {
   "cell_type": "markdown",
   "metadata": {
    "colab_type": "text",
    "id": "8R_1LMYxZz0R"
   },
   "source": [
    "MANUAL GENERATION OF THE COMPARISION GRAPHS"
   ]
  },
  {
   "cell_type": "markdown",
   "metadata": {
    "colab_type": "text",
    "id": "mm_E8uZPb75M"
   },
   "source": [
    "FOR SIFT"
   ]
  },
  {
   "cell_type": "code",
   "execution_count": 0,
   "metadata": {
    "colab": {},
    "colab_type": "code",
    "id": "LlXptCHQ86jm"
   },
   "outputs": [],
   "source": [
    "sift_256 = [83.33333333, 83.33333333, 83.7037037 , 81.11111111, 81.11111111, #256 SIZE IMAGE ACCURACIES\n",
    "       79.62962963, 78.88888889, 77.40740741, 77.03703704, 76.2962963 ,\n",
    "       10.37037037]\n",
    "sift_512 = [80.37037037, 82.96296296, 81.11111111, 80.        , 79.25925926, #512 SIZE IMAGE ACCURACIES\n",
    "       79.25925926, 76.66666667, 75.55555556, 75.55555556, 75.18518519,\n",
    "       10.37037037]\n",
    "plt.plot([1,5,10,20,30,40,50,60,70,80,'large'],sift_256)\n",
    "plt.plot([1,5,10,20,30,40,50,60,70,80,'large'],sift_512)\n",
    "plt.xlabel('k_values')\n",
    "plt.ylabel('accuracies')\n",
    "plt.title('SIFT results comparision based on the size of the image')\n",
    "plt.legend(['256_images','512_images'])\n",
    "plt.savefig('img_comparisions.png') "
   ]
  },
  {
   "cell_type": "markdown",
   "metadata": {
    "colab_type": "text",
    "id": "b2hRPfsxcBZo"
   },
   "source": [
    "FOR ORB"
   ]
  },
  {
   "cell_type": "code",
   "execution_count": 0,
   "metadata": {
    "colab": {},
    "colab_type": "code",
    "id": "GvCsSFTRV6Qw"
   },
   "outputs": [],
   "source": [
    "orb_1024 = [53.33333333, 56.2962963 , 54.07407407, 54.07407407, 51.48148148, #1024 image accuracies\n",
    "       48.14814815, 47.77777778, 46.66666667, 45.92592593, 44.44444444,\n",
    "        4.44444444]\n",
    "orb_256 = [47.03703704, 49.62962963, 48.88888889, 48.88888889, 47.40740741, #256 image accuracies\n",
    "       45.55555556, 44.81481481, 44.07407407, 43.33333333, 42.59259259,\n",
    "        9.62962963]\n",
    "orb_512 = [55.18518519, 58.51851852, 58.51851852, 53.7037037 , 52.59259259, #512 image accuracies\n",
    "       50.37037037, 48.88888889, 47.77777778, 45.92592593, 45.18518519,\n",
    "        9.25925926]\n",
    "k_list = [1,5,10,20,30,40,50,60,70,80,'large']\n",
    "plt.plot(k_list,orb_1024,'r')\n",
    "plt.plot(k_list,orb_256,'g')\n",
    "plt.plot(k_list,orb_512,'b')\n",
    "plt.xlabel('k_values')\n",
    "plt.ylabel('accuracies')\n",
    "plt.title('ORB results comparision based on the size of the image')\n",
    "plt.legend(['1024_images','256_images','512_images'])\n",
    "plt.savefig('img_orb_comparisions.png')\n",
    "plt.show()"
   ]
  }
 ],
 "metadata": {
  "colab": {
   "collapsed_sections": [],
   "machine_shape": "hm",
   "name": "Untitled3.ipynb",
   "provenance": []
  },
  "kernelspec": {
   "display_name": "Python 3",
   "language": "python",
   "name": "python3"
  },
  "language_info": {
   "codemirror_mode": {
    "name": "ipython",
    "version": 3
   },
   "file_extension": ".py",
   "mimetype": "text/x-python",
   "name": "python",
   "nbconvert_exporter": "python",
   "pygments_lexer": "ipython3",
   "version": "3.6.8"
  }
 },
 "nbformat": 4,
 "nbformat_minor": 1
}
